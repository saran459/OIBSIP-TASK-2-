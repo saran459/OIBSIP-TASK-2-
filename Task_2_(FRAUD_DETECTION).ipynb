{
  "nbformat": 4,
  "nbformat_minor": 0,
  "metadata": {
    "colab": {
      "provenance": [],
      "authorship_tag": "ABX9TyPxWwUQ68tXkw0a+VazFon4",
      "include_colab_link": true
    },
    "kernelspec": {
      "name": "python3",
      "display_name": "Python 3"
    },
    "language_info": {
      "name": "python"
    }
  },
  "cells": [
    {
      "cell_type": "markdown",
      "metadata": {
        "id": "view-in-github",
        "colab_type": "text"
      },
      "source": [
        "<a href=\"https://colab.research.google.com/github/saran459/OIBSIP-TASK-2-/blob/main/Task_2_(FRAUD_DETECTION).ipynb\" target=\"_parent\"><img src=\"https://colab.research.google.com/assets/colab-badge.svg\" alt=\"Open In Colab\"/></a>"
      ]
    },
    {
      "cell_type": "code",
      "execution_count": null,
      "metadata": {
        "colab": {
          "base_uri": "https://localhost:8080/",
          "height": 1000
        },
        "id": "SYOf7q_wXr7F",
        "outputId": "d2baa219-46ff-4661-ba32-50441e43934d"
      },
      "outputs": [
        {
          "output_type": "stream",
          "name": "stdout",
          "text": [
            "<class 'pandas.core.frame.DataFrame'>\n",
            "RangeIndex: 31780 entries, 0 to 31779\n",
            "Data columns (total 31 columns):\n",
            " #   Column  Non-Null Count  Dtype  \n",
            "---  ------  --------------  -----  \n",
            " 0   Time    31780 non-null  int64  \n",
            " 1   V1      31780 non-null  float64\n",
            " 2   V2      31780 non-null  float64\n",
            " 3   V3      31780 non-null  float64\n",
            " 4   V4      31780 non-null  float64\n",
            " 5   V5      31780 non-null  float64\n",
            " 6   V6      31780 non-null  float64\n",
            " 7   V7      31779 non-null  float64\n",
            " 8   V8      31779 non-null  float64\n",
            " 9   V9      31779 non-null  float64\n",
            " 10  V10     31779 non-null  float64\n",
            " 11  V11     31779 non-null  float64\n",
            " 12  V12     31779 non-null  float64\n",
            " 13  V13     31779 non-null  float64\n",
            " 14  V14     31779 non-null  float64\n",
            " 15  V15     31779 non-null  float64\n",
            " 16  V16     31779 non-null  float64\n",
            " 17  V17     31779 non-null  float64\n",
            " 18  V18     31779 non-null  float64\n",
            " 19  V19     31779 non-null  float64\n",
            " 20  V20     31779 non-null  float64\n",
            " 21  V21     31779 non-null  float64\n",
            " 22  V22     31779 non-null  float64\n",
            " 23  V23     31779 non-null  float64\n",
            " 24  V24     31779 non-null  float64\n",
            " 25  V25     31779 non-null  float64\n",
            " 26  V26     31779 non-null  float64\n",
            " 27  V27     31779 non-null  float64\n",
            " 28  V28     31779 non-null  float64\n",
            " 29  Amount  31779 non-null  float64\n",
            " 30  Class   31779 non-null  float64\n",
            "dtypes: float64(30), int64(1)\n",
            "memory usage: 7.5 MB\n",
            "Time      0\n",
            "V1        0\n",
            "V2        0\n",
            "V3        0\n",
            "V4        0\n",
            "V5        0\n",
            "V6        0\n",
            "V7        1\n",
            "V8        1\n",
            "V9        1\n",
            "V10       1\n",
            "V11       1\n",
            "V12       1\n",
            "V13       1\n",
            "V14       1\n",
            "V15       1\n",
            "V16       1\n",
            "V17       1\n",
            "V18       1\n",
            "V19       1\n",
            "V20       1\n",
            "V21       1\n",
            "V22       1\n",
            "V23       1\n",
            "V24       1\n",
            "V25       1\n",
            "V26       1\n",
            "V27       1\n",
            "V28       1\n",
            "Amount    1\n",
            "Class     1\n",
            "dtype: int64\n"
          ]
        },
        {
          "output_type": "stream",
          "name": "stderr",
          "text": [
            "/usr/local/lib/python3.11/dist-packages/sklearn/linear_model/_logistic.py:465: ConvergenceWarning: lbfgs failed to converge (status=1):\n",
            "STOP: TOTAL NO. OF ITERATIONS REACHED LIMIT.\n",
            "\n",
            "Increase the number of iterations (max_iter) or scale the data as shown in:\n",
            "    https://scikit-learn.org/stable/modules/preprocessing.html\n",
            "Please also refer to the documentation for alternative solver options:\n",
            "    https://scikit-learn.org/stable/modules/linear_model.html#logistic-regression\n",
            "  n_iter_i = _check_optimize_result(\n"
          ]
        },
        {
          "output_type": "stream",
          "name": "stdout",
          "text": [
            "Accuracy: 99.65%\n",
            "              precision    recall  f1-score   support\n",
            "\n",
            "         0.0       1.00      1.00      1.00      6332\n",
            "         1.0       0.56      0.38      0.45        24\n",
            "\n",
            "    accuracy                           1.00      6356\n",
            "   macro avg       0.78      0.69      0.72      6356\n",
            "weighted avg       1.00      1.00      1.00      6356\n",
            "\n"
          ]
        },
        {
          "output_type": "display_data",
          "data": {
            "text/plain": [
              "<Figure size 640x480 with 2 Axes>"
            ],
            "image/png": "[encoded data removed]"
          },
          "metadata": {}
        }
      ],
      "source": [
        "import pandas as pd\n",
        "import numpy as np\n",
        "import matplotlib.pyplot as plot\n",
        "from sklearn.linear_model import LogisticRegression\n",
        "from sklearn.model_selection import train_test_split\n",
        "from sklearn.metrics import accuracy_score, classification_report, confusion_matrix\n",
        "import seaborn as sns\n",
        "data=pd.read_csv('/content/fraud detection.csv')\n",
        "data.head()\n",
        "data.info()\n",
        "print(data.isnull().sum())\n",
        "data_clean=data.dropna()\n",
        "X=data_clean.drop('Class',axis=1)\n",
        "Y=data_clean['Class']\n",
        "X_train,X_test,Y_train,Y_test=train_test_split(X,Y,test_size=0.2,random_state=42)\n",
        "model = LogisticRegression()\n",
        "model.fit(X_train, Y_train)\n",
        "Y_pred=model.predict(X_test)\n",
        "accuracy=accuracy_score(Y_test,Y_pred)\n",
        "print(f\"Accuracy: {accuracy*100:.2f}%\")\n",
        "print(classification_report(Y_test,Y_pred))\n",
        "conf_matrix=confusion_matrix(Y_test,Y_pred)\n",
        "sns.heatmap(conf_matrix,annot=True,fmt='d',cmap='Reds')\n",
        "plot.title('FRAUD DETECTION')\n",
        "plot.xlabel('Predicted')\n",
        "plot.ylabel('Actual')\n",
        "plot.show()\n",
        "\n"
      ]
    }
  ]
}